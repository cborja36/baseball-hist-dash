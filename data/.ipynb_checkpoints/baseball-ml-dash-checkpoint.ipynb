{
 "cells": [
  {
   "cell_type": "markdown",
   "id": "fabulous-conservation",
   "metadata": {},
   "source": [
    "# Historical Baseball Dashboard\n",
    "\n",
    "This application is an extention of my portfolio project, The Historical Baseball Explorer. Built using Plotly's Dash, \n",
    "faculty.ai's Dash Bootstrap Components, and Pandas, I also have included the use of Machine Learning.\n",
    "Using historical MLB (Major League Baseball) data, this application provides visualizations for team and player\n",
    "statistics dating from 1903 to 2020, as well as making various predictions.\n",
    "\n",
    "## The Analysis\n",
    "\n",
    "This application will provide an opportunity to explore historical baseball like before, including additional statictical graphs.\n",
    "To begin, A linear regression will be applied to various data points to predict the players trijectory, namely in terms of production and cost.\n",
    "Other algorithms will be applied as they are developed.\n",
    "\n",
    "## Dependencies (Notebook)\n",
    "\n",
    "- Pandas 1.1\n",
    "- matplotlib 3.2.2\n",
    "- scikit-learn 0.24.1\n",
    "\n",
    "## The Data\n",
    "\n",
    "The data used in this application was retrieved from [Seanlahman.com](http://www.seanlahman.com/baseball-archive/statistics/).\n",
    "Provided by [Chadwick Baseball Bureau's GitHub](https://github.com/chadwickbureau/baseballdatabank/) . \n",
    "This database is copyright 1996-2021 by Sean Lahman. This data is licensed under a Creative Commons Attribution-ShareAlike \n",
    "3.0 Unported License. For details see: [CreativeCommons](http://creativecommons.org/licenses/by-sa/3.0/)"
   ]
  },
  {
   "cell_type": "code",
   "execution_count": null,
   "id": "directed-point",
   "metadata": {},
   "outputs": [],
   "source": []
  }
 ],
 "metadata": {
  "kernelspec": {
   "display_name": "Python 3",
   "language": "python",
   "name": "python3"
  },
  "language_info": {
   "codemirror_mode": {
    "name": "ipython",
    "version": 3
   },
   "file_extension": ".py",
   "mimetype": "text/x-python",
   "name": "python",
   "nbconvert_exporter": "python",
   "pygments_lexer": "ipython3",
   "version": "3.8.3"
  }
 },
 "nbformat": 4,
 "nbformat_minor": 5
}
